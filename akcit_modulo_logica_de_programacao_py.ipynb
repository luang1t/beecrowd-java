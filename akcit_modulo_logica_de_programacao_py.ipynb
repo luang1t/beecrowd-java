{
  "nbformat": 4,
  "nbformat_minor": 0,
  "metadata": {
    "colab": {
      "provenance": [],
      "authorship_tag": "ABX9TyMVjMbx9bGDs57g/kuOQb4y",
      "include_colab_link": true
    },
    "kernelspec": {
      "name": "python3",
      "display_name": "Python 3"
    },
    "language_info": {
      "name": "python"
    }
  },
  "cells": [
    {
      "cell_type": "markdown",
      "metadata": {
        "id": "view-in-github",
        "colab_type": "text"
      },
      "source": [
        "<a href=\"https://colab.research.google.com/github/luang1t/beecrowd-java/blob/main/akcit_modulo_logica_de_programacao_py.ipynb\" target=\"_parent\"><img src=\"https://colab.research.google.com/assets/colab-badge.svg\" alt=\"Open In Colab\"/></a>"
      ]
    },
    {
      "cell_type": "code",
      "execution_count": null,
      "metadata": {
        "colab": {
          "base_uri": "https://localhost:8080/"
        },
        "id": "DoG-4l48eOw6",
        "outputId": "e5e37f1b-ac5a-4d4c-cc78-fc2b55497c03"
      },
      "outputs": [
        {
          "output_type": "stream",
          "name": "stdout",
          "text": [
            "Digite seu nome: Luan\n",
            "Digite seu ano de nascimento: 2000\n",
            "Olá Luan !\n",
            "Em 2024 você completa 24 anos.\n",
            "Parabéns!\n"
          ]
        }
      ],
      "source": [
        "# @title Primeiro Programa\n",
        "\n",
        "def dados(ano_atual = 2024):\n",
        "  nome = str(input(\"Digite seu nome: \"))\n",
        "  ano_nascimento = int(input(\"Digite seu ano de nascimento: \"))\n",
        "  ano_atual = 2024\n",
        "  idade = ano_atual - ano_nascimento\n",
        "  return nome,ano_nascimento,idade,ano_atual\n",
        "\n",
        "if __name__ == \"__main__\":\n",
        "  nome, ano_nascimento, idade, ano_atual = dados()\n",
        "  print(f\"Olá {nome} !\")\n",
        "  print(f\"Em {ano_atual} você completa {idade} anos.\")\n",
        "  print(\"Parabéns!\")\n",
        "\n",
        "\n",
        "\n"
      ]
    },
    {
      "cell_type": "code",
      "source": [
        "# @title Segundo Programa\n",
        "\n",
        "\n",
        "\n",
        "\n",
        "def soma():\n",
        "  while True:\n",
        "    try:\n",
        "      numero1 = float(input(\"Digite o primeio valor: \"))\n",
        "      numero2 = float(input(\"Digite o segundo valor: \"))\n",
        "      soma = numero1 + numero2\n",
        "      return print(soma)\n",
        "      break\n",
        "    except ValueError:\n",
        "      print(\"Você precisa digitar um número.\")\n",
        "\n",
        "def subtracao():\n",
        "  while True:\n",
        "    try:\n",
        "      numero1=float(input(\"Digite o primeiro valor: \"))\n",
        "      numero2=float(input(\"Digite o segundo valor:\"))\n",
        "      subtracao = numero1 - numero2\n",
        "      return print(subtracao)\n",
        "      break\n",
        "    except ValueError:\n",
        "      print(\"Você precisa digitar um número.\")\n",
        "\n",
        "def multiplicacao():\n",
        "  while True:\n",
        "    try:\n",
        "      numero1=float(input(\"Digite o primeiro valor: \"))\n",
        "      numero2=float(input(\"Digite o primeiro valor: \"))\n",
        "      multiplicacao = numero1 * numero2\n",
        "      return print(multiplicacao)\n",
        "      break\n",
        "    except ValueError:\n",
        "      print(\"Você precisa digitar um número.\")\n",
        "\n",
        "\n",
        "def divisao():\n",
        "  while True:\n",
        "    try:\n",
        "      numero1=float(input(\"Digite o primeiro valor: \"))\n",
        "      numero2=float(input(\"Digite o primeiro valor: \"))\n",
        "      divisao = numero1 / numero2\n",
        "      return print(divisao)\n",
        "      break\n",
        "    except ZeroDivisionError:\n",
        "      print(\"Não é possível dividir por zero.\")\n",
        "    except ValueError:\n",
        "      print(\"Você precisa digitar um número.\")\n",
        "\n",
        "def escolha():\n",
        "  print(\"1 - Soma\")\n",
        "  print(\"2 - Subtração\")\n",
        "  print(\"3 - Multiplicação\")\n",
        "  print(\"4 - Divisão\")\n",
        "  select = int(input(\"Digite a opção desejada\\n\"))\n",
        "  match select:\n",
        "    case 1:\n",
        "        soma()\n",
        "\n",
        "    case 2:\n",
        "      subtracao()\n",
        "\n",
        "    case 3:\n",
        "      multiplicacao()\n",
        "\n",
        "    case 4:\n",
        "      divisao()\n",
        "\n",
        "    case default:\n",
        "      print(\"Opção inválida\")\n",
        "\n",
        "\n",
        "if __name__ == \"__main__\":\n",
        "  escolha()"
      ],
      "metadata": {
        "colab": {
          "base_uri": "https://localhost:8080/"
        },
        "id": "AE2OJawHuhUz",
        "outputId": "a2080967-4a19-4671-a61a-ea76a948912f"
      },
      "execution_count": null,
      "outputs": [
        {
          "output_type": "stream",
          "name": "stdout",
          "text": [
            "1 - Soma\n",
            "2 - Subtração\n",
            "3 - Multiplicação\n",
            "4 - Divisão\n",
            "Digite a opção desejada\n",
            "4\n",
            "Digite o primeiro valor: 10\n",
            "Digite o primeiro valor: 0\n",
            "Não é possível dividir por zero.\n",
            "Digite o primeiro valor: 10\n",
            "Digite o primeiro valor: 9\n",
            "1.1111111111111112\n"
          ]
        }
      ]
    },
    {
      "cell_type": "code",
      "source": [
        "# @title Método para ler msg\n",
        "\n",
        "#ESSE METODO FUNCIONA ATRIBUINDO ELE A VARIAVEL QUE VAI FAZER O RECOLHIMENTO DE DADOS\n",
        "#EXEMPLO:\n",
        "#notas_1_semestre = ler_msg(\"Digite a primeira nota\")\n",
        "\n",
        "def ler_msg(msg):\n",
        "#\n",
        " while True:\n",
        "  try:\n",
        "    return float(input(msg))\n",
        "  except ValueError:\n",
        "    print(\"Você precisa digitar um numero\")\n",
        "\n",
        "if __name__ == \"__main__\":\n",
        "  notas_1_semestre = ler_msg(\"Digite a primeira nota: \")\n",
        "  print(notas_1_semestre)\n"
      ],
      "metadata": {
        "colab": {
          "base_uri": "https://localhost:8080/"
        },
        "id": "S0gupedml9Yy",
        "outputId": "4a31532e-848a-40d3-ab7b-213843e59914"
      },
      "execution_count": null,
      "outputs": [
        {
          "output_type": "stream",
          "name": "stdout",
          "text": [
            "Digite a primeira nota: l\n",
            "Você precisa digitar um numero\n",
            "Digite a primeira nota: -\n",
            "Você precisa digitar um numero\n",
            "Digite a primeira nota: 10\n",
            "10.0\n"
          ]
        }
      ]
    }
  ]
}